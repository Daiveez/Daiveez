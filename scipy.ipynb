{
 "cells": [
  {
   "cell_type": "code",
   "execution_count": 2,
   "id": "aa39ac79-1431-41d9-bce9-c16861102b13",
   "metadata": {},
   "outputs": [
    {
     "name": "stdout",
     "output_type": "stream",
     "text": [
      "1.7.1\n"
     ]
    }
   ],
   "source": [
    "import scipy as sc \n",
    "\n",
    "print(sc.__version__)"
   ]
  },
  {
   "cell_type": "code",
   "execution_count": 3,
   "id": "ea1f2dc6-b7f9-4264-b5df-01eb2e0b23d3",
   "metadata": {},
   "outputs": [
    {
     "name": "stdout",
     "output_type": "stream",
     "text": [
      "3.141592653589793\n"
     ]
    }
   ],
   "source": [
    "from scipy import constants\n",
    "print(constants.pi)"
   ]
  },
  {
   "cell_type": "code",
   "execution_count": 4,
   "id": "20e1fbcf-73a6-4f34-a780-a72f01964bed",
   "metadata": {},
   "outputs": [
    {
     "name": "stdout",
     "output_type": "stream",
     "text": [
      "['Avogadro', 'Boltzmann', 'Btu', 'Btu_IT', 'Btu_th', 'ConstantWarning', 'G', 'Julian_year', 'N_A', 'Planck', 'R', 'Rydberg', 'Stefan_Boltzmann', 'Wien', '__all__', '__builtins__', '__cached__', '__doc__', '__file__', '__loader__', '__name__', '__package__', '__path__', '__spec__', '_obsolete_constants', 'acre', 'alpha', 'angstrom', 'arcmin', 'arcminute', 'arcsec', 'arcsecond', 'astronomical_unit', 'atm', 'atmosphere', 'atomic_mass', 'atto', 'au', 'bar', 'barrel', 'bbl', 'blob', 'c', 'calorie', 'calorie_IT', 'calorie_th', 'carat', 'centi', 'codata', 'constants', 'convert_temperature', 'day', 'deci', 'degree', 'degree_Fahrenheit', 'deka', 'dyn', 'dyne', 'e', 'eV', 'electron_mass', 'electron_volt', 'elementary_charge', 'epsilon_0', 'erg', 'exa', 'exbi', 'femto', 'fermi', 'find', 'fine_structure', 'fluid_ounce', 'fluid_ounce_US', 'fluid_ounce_imp', 'foot', 'g', 'gallon', 'gallon_US', 'gallon_imp', 'gas_constant', 'gibi', 'giga', 'golden', 'golden_ratio', 'grain', 'gram', 'gravitational_constant', 'h', 'hbar', 'hectare', 'hecto', 'horsepower', 'hour', 'hp', 'inch', 'k', 'kgf', 'kibi', 'kilo', 'kilogram_force', 'kmh', 'knot', 'lambda2nu', 'lb', 'lbf', 'light_year', 'liter', 'litre', 'long_ton', 'm_e', 'm_n', 'm_p', 'm_u', 'mach', 'mebi', 'mega', 'metric_ton', 'micro', 'micron', 'mil', 'mile', 'milli', 'minute', 'mmHg', 'mph', 'mu_0', 'nano', 'nautical_mile', 'neutron_mass', 'nu2lambda', 'ounce', 'oz', 'parsec', 'pebi', 'peta', 'physical_constants', 'pi', 'pico', 'point', 'pound', 'pound_force', 'precision', 'proton_mass', 'psi', 'pt', 'short_ton', 'sigma', 'slinch', 'slug', 'speed_of_light', 'speed_of_sound', 'stone', 'survey_foot', 'survey_mile', 'tebi', 'tera', 'test', 'ton_TNT', 'torr', 'troy_ounce', 'troy_pound', 'u', 'unit', 'value', 'week', 'yard', 'year', 'yobi', 'yotta', 'zebi', 'zepto', 'zero_Celsius', 'zetta']\n"
     ]
    }
   ],
   "source": [
    "from scipy import constants\n",
    "print(dir(constants))"
   ]
  },
  {
   "cell_type": "code",
   "execution_count": 8,
   "id": "ada6898a-319b-4688-9405-082a8ec6361d",
   "metadata": {},
   "outputs": [
    {
     "name": "stdout",
     "output_type": "stream",
     "text": [
      "86400.0\n"
     ]
    }
   ],
   "source": [
    "from scipy import constants\n",
    "print(constants.day)"
   ]
  },
  {
   "cell_type": "code",
   "execution_count": 20,
   "id": "7a62da4d-007d-4daa-b7ed-86bd699c77ea",
   "metadata": {},
   "outputs": [
    {
     "name": "stdout",
     "output_type": "stream",
     "text": [
      "    fjac: array([[-1.]])\n",
      "     fun: array([-8.79296636e-14])\n",
      " message: 'The solution converged.'\n",
      "    nfev: 16\n",
      "     qtf: array([-1.3875975e-08])\n",
      "       r: array([-6.1158193])\n",
      "  status: 1\n",
      " success: True\n",
      "       x: array([2.02875784])\n"
     ]
    }
   ],
   "source": [
    "#code to calculate the root of an equation\n",
    "from scipy.optimize import root\n",
    "from math import sin\n",
    "from math import cos\n",
    "from math import tan\n",
    "\n",
    "def equation(x):\n",
    "    return x+tan(x)\n",
    "\n",
    "value=root(equation,90)\n",
    "\n",
    "print(value)"
   ]
  },
  {
   "cell_type": "code",
   "execution_count": 25,
   "id": "fd398bd5-73ca-4d3f-bc34-900c76abfe4d",
   "metadata": {},
   "outputs": [
    {
     "name": "stdout",
     "output_type": "stream",
     "text": [
      "The manimal value is       fun: 1.75\n",
      " hess_inv: array([[0.50000001]])\n",
      "      jac: array([0.])\n",
      "  message: 'Optimization terminated successfully.'\n",
      "     nfev: 8\n",
      "      nit: 2\n",
      "     njev: 4\n",
      "   status: 0\n",
      "  success: True\n",
      "        x: array([-0.50000001])\n"
     ]
    }
   ],
   "source": [
    "#code to minimize an equation using the scipy.optimize library \n",
    "from scipy.optimize import minimize\n",
    "#from scipy.optimize import maximum\n",
    "\n",
    "def equ(x):\n",
    "    return x**2+x+2\n",
    "value=minimize(equ,0,method='BFGS')\n",
    "\n",
    "print(f'The manimal value is {value}')"
   ]
  },
  {
   "cell_type": "code",
   "execution_count": 27,
   "id": "e4006a85-2beb-41e9-8e9d-87c74bb07867",
   "metadata": {},
   "outputs": [
    {
     "name": "stdout",
     "output_type": "stream",
     "text": [
      "  (0, 0)\t1\n",
      "  (0, 4)\t2\n",
      "  (0, 7)\t2\n"
     ]
    }
   ],
   "source": [
    "import numpy as np \n",
    "from scipy.sparse import csr_matrix\n",
    "\n",
    "x=np.array([1,0,0,0,2,0,0,2,0])\n",
    "print(csr_matrix(x))"
   ]
  },
  {
   "cell_type": "code",
   "execution_count": 32,
   "id": "489afaba-acc5-4db6-adeb-1d7374602caf",
   "metadata": {},
   "outputs": [
    {
     "name": "stdout",
     "output_type": "stream",
     "text": [
      "[1 1 2]\n"
     ]
    }
   ],
   "source": [
    "from scipy.sparse import csr_matrix\n",
    "import numpy as np\n",
    "\n",
    "num=np.array([[0,0,0],[0,0,1],[1,0,2]])\n",
    "\n",
    "print(csr_matrix(num).data)\n",
    "#the above function is used to return the non-zero values in the array"
   ]
  },
  {
   "cell_type": "markdown",
   "id": "277ba73e-9f2a-49db-8d33-086d33ad5393",
   "metadata": {},
   "source": [
    "\n",
    "\n",
    "\n"
   ]
  },
  {
   "cell_type": "code",
   "execution_count": 34,
   "id": "c71fb6f6-6c18-41c6-9014-0afdb7183503",
   "metadata": {},
   "outputs": [
    {
     "name": "stdout",
     "output_type": "stream",
     "text": [
      "3\n"
     ]
    }
   ],
   "source": [
    "import numpy as np \n",
    "from scipy.sparse import csr_matrix\n",
    "\n",
    "\n",
    "num=np.array([[0,0,0],[0,0,1],[1,0,2]])\n",
    "\n",
    "print(csr_matrix(num).count_nonzero())\n",
    "#the above function is used to count non zero values in the array"
   ]
  },
  {
   "cell_type": "code",
   "execution_count": 38,
   "id": "0533809e-2a27-406c-b0a4-ae08c81036b9",
   "metadata": {},
   "outputs": [
    {
     "name": "stdout",
     "output_type": "stream",
     "text": [
      "  (1, 2)\t1\n",
      "  (2, 0)\t1\n",
      "  (2, 2)\t2\n"
     ]
    }
   ],
   "source": [
    "import numpy as np \n",
    "from scipy.sparse import csr_matrix\n",
    "\n",
    "\n",
    "num=np.array([[0,0,0],[0,0,1],[1,0,2]])\n",
    "\n",
    "newnum=csr_matrix(num)\n",
    "newnum.eliminate_zeros()\n",
    "#the above function is used to display the nonzero values in the array and their locations \n",
    "\n",
    "print(newnum)"
   ]
  },
  {
   "cell_type": "code",
   "execution_count": 44,
   "id": "d80eb201-15ef-4b51-9e53-f0701417df37",
   "metadata": {},
   "outputs": [
    {
     "name": "stdout",
     "output_type": "stream",
     "text": [
      "3\n"
     ]
    }
   ],
   "source": [
    "import numpy as np\n",
    "from scipy.sparse import csr_matrix\n",
    "\n",
    "\n",
    "num=np.array([[0,0,0],[0,0,1],[1,0,2]])\n",
    "newnum=csr_matrix(num).count_nonzero()\n",
    "\n",
    "\n",
    "print(newnum)"
   ]
  },
  {
   "cell_type": "code",
   "execution_count": 51,
   "id": "b7de66f3-0b33-412d-8334-75dc78a9ba39",
   "metadata": {},
   "outputs": [
    {
     "name": "stdout",
     "output_type": "stream",
     "text": [
      "  (1, 2)\t1\n",
      "  (2, 0)\t1\n",
      "  (2, 2)\t2\n"
     ]
    }
   ],
   "source": [
    "import numpy as np\n",
    "\n",
    "from scipy.sparse import csr_matrix\n",
    "\n",
    "\n",
    "num=np.array([[0,0,0],[0,0,1],[1,0,2]])\n",
    "newnum=csr_matrix(num)\n",
    "\n",
    "newnum.sum_duplicates()\n",
    "\n",
    "#the above function is simply used to eliminate zero values by simple adding the values in the array\n",
    "print(newnum)"
   ]
  },
  {
   "cell_type": "code",
   "execution_count": 52,
   "id": "8358fec7-a31d-406a-a03c-8f1a93337401",
   "metadata": {},
   "outputs": [
    {
     "name": "stdout",
     "output_type": "stream",
     "text": [
      "  (2, 0)\t1\n",
      "  (1, 2)\t1\n",
      "  (2, 2)\t2\n"
     ]
    }
   ],
   "source": [
    "import numpy as np\n",
    "from scipy.sparse import csr_matrix\n",
    "\n",
    "\n",
    "num=np.array([[0,0,0],[0,0,1],[1,0,2]])\n",
    "\n",
    "print(csr_matrix(num).tocsc())\n",
    "#the above function is simply used to convert csr to csc"
   ]
  },
  {
   "cell_type": "code",
   "execution_count": 65,
   "id": "26484130-15c2-4b55-9215-2a9314de9236",
   "metadata": {},
   "outputs": [
    {
     "name": "stdout",
     "output_type": "stream",
     "text": [
      "  (1, 2)\t1\n",
      "  (2, 0)\t1\n",
      "  (2, 2)\t2\n"
     ]
    }
   ],
   "source": [
    "from scipy.sparse import csr_matrix"
   ]
  },
  {
   "cell_type": "code",
   "execution_count": 3,
   "id": "dc28f87a-9a9c-43b8-878d-5c07250bda78",
   "metadata": {},
   "outputs": [
    {
     "name": "stdout",
     "output_type": "stream",
     "text": [
      "(1, array([0, 0, 0]))\n"
     ]
    }
   ],
   "source": [
    "from scipy.sparse import csr_matrix\n",
    "import numpy as np\n",
    "from scipy.sparse.csgraph import connected_components\n",
    "\n",
    "arr = np.array([\n",
    "  [0, 1, 2],\n",
    "  [1, 0, 0],\n",
    "  [2, 0, 0]\n",
    "])\n",
    "\n",
    "newarr=csr_matrix(arr)\n",
    "\n",
    "print(connected_components(newarr))"
   ]
  },
  {
   "cell_type": "code",
   "execution_count": null,
   "id": "0dbd13a8-d8b4-4444-ae97-3ef84e4e4365",
   "metadata": {},
   "outputs": [],
   "source": []
  }
 ],
 "metadata": {
  "kernelspec": {
   "display_name": "Python 3 (ipykernel)",
   "language": "python",
   "name": "python3"
  },
  "language_info": {
   "codemirror_mode": {
    "name": "ipython",
    "version": 3
   },
   "file_extension": ".py",
   "mimetype": "text/x-python",
   "name": "python",
   "nbconvert_exporter": "python",
   "pygments_lexer": "ipython3",
   "version": "3.9.7"
  }
 },
 "nbformat": 4,
 "nbformat_minor": 5
}
